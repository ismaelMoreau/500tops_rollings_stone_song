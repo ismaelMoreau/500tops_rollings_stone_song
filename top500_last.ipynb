The outer HTML of the <a> element contains the search query: 
The Inner HTML of the <a> element contains the search query: 
The outer HTML of the <a> element contains the search query: 
The Inner HTML of the <a> element contains the search query: 
The outer HTML of the <a> element contains the search query: 
The Inner HTML of the <a> element contains the search query: 
The outer HTML of the <a> element contains the search query: 
The Inner HTML of the <a> element contains the search query: 
The outer HTML of the <a> element contains the search query: 
The Inner HTML of the <a> element contains the search query: 
The outer HTML of the <a> element contains the search query: 
The Inner HTML of the <a> element contains the search query: 
The outer HTML of the <a> element contains the search query: 
The Inner HTML of the <a> element contains the search query: 
The outer HTML of the <a> element contains the search query: 
The Inner HTML of the <a> element contains the search query: 
The outer HTML of the <a> element contains the search query: 
The Inner HTML of the <a> element contains the search query: 
The outer HTML of the <a> element contains the search query: 
The Inner HTML of the <a> element contains the search query: 
The outer HTML of the <a> element contains the search query: 
The Inner HTML of the <a> element contains the search query: 
The outer HTML of the <a> element contains the search query: 
The Inner HTML of the <a> element contains the search query: 
The outer HTML of the <a> element contains the search query: 
The Inner HTML of the <a> element contains the search query: 
The outer HTML of the <a> element contains the search query: 
The Inner HTML of the <a> element contains the search query: 
The outer HTML of the <a> element contains the search query: 
The Inner HTML of the <a> element contains the search query: 
The outer HTML of the <a> element contains the search query: 
The Inner HTML of the <a> element contains the search query: 
The outer HTML of the <a> element contains the search query: 
The Inner HTML of the <a> element contains the search query: 
The outer HTML of the <a> element contains the search query: 
The Inner HTML of the <a> element contains the search query: 
The outer HTML of the <a> element contains the search query: 
The Inner HTML of the <a> element contains the search query: 
The outer HTML of the <a> element contains the search query: 
The Inner HTML of the <a> element contains the search query: 
The outer HTML of the <a> element contains the search query: 
The Inner HTML of the <a> element contains the search query: 
The outer HTML of the <a> element contains the search query: 
The Inner HTML of the <a> element contains the search query: 
The outer HTML of the <a> element contains the search query: 
The Inner HTML of the <a> element contains the search query: 
The outer HTML of the <a> element contains the search query: 
The Inner HTML of the <a> element contains the search query: 
The outer HTML of the <a> element contains the search query: 
The Inner HTML of the <a> element contains the search query: 
The outer HTML of the <a> element contains the search query: 
The Inner HTML of the <a> element contains the search query: 
The outer HTML of the <a> element contains the search query: 
The Inner HTML of the <a> element contains the search query: 
The outer HTML of the <a> element contains the search query: 
The Inner HTML of the <a> element contains the search query: 
The outer HTML of the <a> element contains the search query: 
The Inner HTML of the <a> element contains the search query: 
The outer HTML of the <a> element contains the search query: 
The Inner HTML of the <a> element contains the search query: 
The outer HTML of the <a> element contains the search query: 
The Inner HTML of the <a> element contains the search query: 
The outer HTML of the <a> element contains the search query: 
The Inner HTML of the <a> element contains the search query: 
The outer HTML of the <a> element contains the search query: 
The Inner HTML of the <a> element contains the search query: 
The outer HTML of the <a> element contains the search query: 
The Inner HTML of the <a> element contains the search query: 
The outer HTML of the <a> element contains the search query: 
The Inner HTML of the <a> element contains the search query: 
The outer HTML of the <a> element contains the search query: 
The Inner HTML of the <a> element contains the search query: 
The outer HTML of the <a> element contains the search query: 
The Inner HTML of the <a> element contains the search query: 
The outer HTML of the <a> element contains the search query: 
The Inner HTML of the <a> element contains the search query: 
The outer HTML of the <a> element contains the search query: 
The Inner HTML of the <a> element contains the search query: 
The outer HTML of the <a> element contains the search query: 
The Inner HTML of the <a> element contains the search query: 
The outer HTML of the <a> element contains the search query: 
The Inner HTML of the <a> element contains the search query: 
The outer HTML of the <a> element contains the search query: 
The Inner HTML of the <a> element contains the search query: 
The outer HTML of the <a> element contains the search query: 
The Inner HTML of the <a> element contains the search query: 
The outer HTML of the <a> element contains the search query: 
The Inner HTML of the <a> element contains the search query: 
The outer HTML of the <a> element contains the search query: 
The Inner HTML of the <a> element contains the search query: 
The outer HTML of the <a> element contains the search query: 
The Inner HTML of the <a> element contains the search query: 
The outer HTML of the <a> element contains the search query: 
The Inner HTML of the <a> element contains the search query: 
The outer HTML of the <a> element contains the search query: 
The Inner HTML of the <a> element contains the search query: 
The outer HTML of the <a> element contains the search query: 
The Inner HTML of the <a> element contains the search query: 
The outer HTML of the <a> element contains the search query: 
The Inner HTML of the <a> element contains the search query: 
The outer HTML of the <a> element contains the search query: 
The Inner HTML of the <a> element contains the search query: 
The outer HTML of the <a> element contains the search query: 
The Inner HTML of the <a> element contains the search query: 
URL for '': None
URL for 'Green Day, ‘Basket Case’': https://www.youtube.com/watch?v=NUTGr5t3MoY&pp=ygUcR3JlZW4gRGF5LCDigJhCYXNrZXQgQ2FzZeKAmQ%3D%3D
URL for 'Elton John, ‘Rocket Man’': https://www.youtube.com/watch?v=DtVBCG6ThDk&pp=ygUcRWx0b24gSm9obiwg4oCYUm9ja2V0IE1hbuKAmQ%3D%3D
URL for 'Led Zeppelin, ‘Kashmir’': None
URL for 'Fats Domino, ‘Blueberry Hill’': https://www.youtube.com/watch?v=bQQCPrwKzdo&pp=ygUhRmF0cyBEb21pbm8sIOKAmEJsdWViZXJyeSBIaWxs4oCZ
URL for 'James Taylor, ‘Fire and Rain’': https://www.youtube.com/watch?v=EbD7lfrsY2s&pp=ygUhSmFtZXMgVGF5bG9yLCDigJhGaXJlIGFuZCBSYWlu4oCZ
URL for 'Outkast, ‘Ms. Jackson’': https://www.youtube.com/watch?v=MYxAiK6VnXw&pp=ygUaT3V0a2FzdCwg4oCYTXMuIEphY2tzb27igJk%3D
URL for 'The Rolling Stones, ‘Jumpin’ Jack Flash’': https://www.youtube.com/watch?v=G3dFpQzu54w&pp=ygUuVGhlIFJvbGxpbmcgU3RvbmVzLCDigJhKdW1waW7igJkgSmFjayBGbGFzaOKAmQ%3D%3D
URL for 'The Clash, ‘London Calling’': https://www.youtube.com/watch?v=EfK-WX2pa8c&pp=ygUfVGhlIENsYXNoLCDigJhMb25kb24gQ2FsbGluZ-KAmQ%3D%3D
URL for 'George Jones, ‘He Stopped Loving Her Today’': https://www.youtube.com/watch?v=VExw77xJsBQ&pp=ygUvR2VvcmdlIEpvbmVzLCDigJhIZSBTdG9wcGVkIExvdmluZyBIZXIgVG9kYXnigJk%3D
URL for 'Rod Stewart, ‘Maggie May’': https://www.youtube.com/watch?v=pBlrMtFprKs&pp=ygUdUm9kIFN0ZXdhcnQsIOKAmE1hZ2dpZSBNYXnigJk%3D
URL for 'Bob Marley and the Wailers, ‘No Woman No Cry’': https://www.youtube.com/watch?v=mZ6VezKMoRY&pp=ygUxQm9iIE1hcmxleSBhbmQgdGhlIFdhaWxlcnMsIOKAmE5vIFdvbWFuIE5vIENyeeKAmQ%3D%3D
URL for 'Madonna, ‘Vogue’': https://www.youtube.com/watch?v=GuJQSAiODqI&pp=ygUUTWFkb25uYSwg4oCYVm9ndWXigJk%3D
URL for 'Blondie, ‘Heart of Glass’': https://www.youtube.com/watch?v=WGU_4-5RaxU&pp=ygUdQmxvbmRpZSwg4oCYSGVhcnQgb2YgR2xhc3PigJk%3D
URL for 'Ariana Grande, ‘Thank U, Next’': https://www.youtube.com/watch?v=gl1aHhXnN1k&pp=ygUiQXJpYW5hIEdyYW5kZSwg4oCYVGhhbmsgVSwgTmV4dOKAmQ%3D%3D
URL for 'Otis Redding, ‘Try a Little Tenderness’': https://www.youtube.com/watch?v=UnPMoAb4y8U&pp=ygUrT3RpcyBSZWRkaW5nLCDigJhUcnkgYSBMaXR0bGUgVGVuZGVybmVzc-KAmQ%3D%3D
URL for 'The Beatles, ‘She Loves You’': https://www.youtube.com/watch?v=nGbWU8S3vzs&pp=ygUgVGhlIEJlYXRsZXMsIOKAmFNoZSBMb3ZlcyBZb3XigJk%3D
URL for 'Tina Turner, ‘What’s Love Got to Do With It’': https://www.youtube.com/watch?v=oGpFcHTxjZs&pp=ygUyVGluYSBUdXJuZXIsIOKAmFdoYXTigJlzIExvdmUgR290IHRvIERvIFdpdGggSXTigJk%3D
URL for 'Journey, ‘Don’t Stop Believin’’': https://www.youtube.com/watch?v=1k8craCGpgs&pp=ygUnSm91cm5leSwg4oCYRG9u4oCZdCBTdG9wIEJlbGlldmlu4oCZ4oCZ
URL for 'Eric B. and Rakim, ‘Paid in Full’': https://www.youtube.com/watch?v=E7t8eoA_1jQ&pp=ygUlRXJpYyBCLiBhbmQgUmFraW0sIOKAmFBhaWQgaW4gRnVsbOKAmQ%3D%3D
URL for 'Ben E. King, ‘Stand by Me’': https://www.youtube.com/watch?v=pKtLNYNWbBw&pp=ygUeQmVuIEUuIEtpbmcsIOKAmFN0YW5kIGJ5IE1l4oCZ
URL for 'Martha and the Vandellas, ‘Dancing in the Street’': https://www.youtube.com/watch?v=68Uv959QuCg&pp=ygU1TWFydGhhIGFuZCB0aGUgVmFuZGVsbGFzLCDigJhEYW5jaW5nIGluIHRoZSBTdHJlZXTigJk%3D
URL for 'Drake feat. Majid Jordan, ‘Hold On, We’re Going Home’': https://www.youtube.com/watch?v=GxgqpCdOKak&pp=ygU7RHJha2UgZmVhdC4gTWFqaWQgSm9yZGFuLCDigJhIb2xkIE9uLCBXZeKAmXJlIEdvaW5nIEhvbWXigJk%3D
URL for 'Led Zeppelin, ‘Whole Lotta Love’': https://www.youtube.com/watch?v=HQmmM_qwG4k&pp=ygUkTGVkIFplcHBlbGluLCDigJhXaG9sZSBMb3R0YSBMb3Zl4oCZ
URL for 'TLC, ‘Waterfalls’': https://www.youtube.com/watch?v=8WEtxJ4-sh4&pp=ygUVVExDLCDigJhXYXRlcmZhbGxz4oCZ
URL for 'George Michael, ‘Freedom! ’90’': https://www.youtube.com/watch?v=diYAc7gB-0A&pp=ygUkR2VvcmdlIE1pY2hhZWwsIOKAmEZyZWVkb20hIOKAmTkw4oCZ
URL for 'Sex Pistols, ‘Anarchy in the U.K.’': https://www.youtube.com/watch?v=cBojbjoMttI&pp=ygUmU2V4IFBpc3RvbHMsIOKAmEFuYXJjaHkgaW4gdGhlIFUuSy7igJk%3D
URL for 'Buddy Holly, ‘That’ll Be the Day’': https://www.youtube.com/watch?v=9mDGcxbAusg&pp=ygUnQnVkZHkgSG9sbHksIOKAmFRoYXTigJlsbCBCZSB0aGUgRGF54oCZ
URL for 'Talking Heads, ‘This Must Be the Place (Naive Melody)’': https://www.youtube.com/watch?v=Fb2q141rMNE&pp=ygU6VGFsa2luZyBIZWFkcywg4oCYVGhpcyBNdXN0IEJlIHRoZSBQbGFjZSAoTmFpdmUgTWVsb2R5KeKAmQ%3D%3D
URL for 'The Impressions, ‘People Get Ready’': https://www.youtube.com/watch?v=l04yM7-BWbg&pp=ygUnVGhlIEltcHJlc3Npb25zLCDigJhQZW9wbGUgR2V0IFJlYWR54oCZ
URL for 'The Beatles, ‘Let It Be’': https://www.youtube.com/watch?v=QDYfEBY9NM4&pp=ygUcVGhlIEJlYXRsZXMsIOKAmExldCBJdCBCZeKAmQ%3D%3D
URL for 'X-Ray Spex, ‘Oh Bondage! Up Yours!’': https://www.youtube.com/watch?v=FYMObdOqcRg&pp=ygUnWC1SYXkgU3BleCwg4oCYT2ggQm9uZGFnZSEgVXAgWW91cnMh4oCZ
URL for 'Marvin Gaye, ‘I Heard It Through the Grapevine’': https://www.youtube.com/watch?v=VWG3npfEoHo&pp=ygUzTWFydmluIEdheWUsIOKAmEkgSGVhcmQgSXQgVGhyb3VnaCB0aGUgR3JhcGV2aW5l4oCZ
URL for 'Radiohead, ‘Creep’': https://www.youtube.com/watch?v=XFkzRNyygfk&pp=ygUWUmFkaW9oZWFkLCDigJhDcmVlcOKAmQ%3D%3D
URL for 'Aretha Franklin, ‘I Say a Little Prayer’': https://www.youtube.com/watch?v=TDyiREoBw0o&pp=ygUsQXJldGhhIEZyYW5rbGluLCDigJhJIFNheSBhIExpdHRsZSBQcmF5ZXLigJk%3D
URL for 'Rob Base and DJ E-Z Rock, ‘It Takes Two’': https://www.youtube.com/watch?v=phOW-CZJWT0&pp=ygUsUm9iIEJhc2UgYW5kIERKIEUtWiBSb2NrLCDigJhJdCBUYWtlcyBUd2_igJk%3D
URL for 'Etta James, ‘At Last’': https://www.youtube.com/watch?v=1qJU8G7gR_g&pp=ygUZRXR0YSBKYW1lcywg4oCYQXQgTGFzdOKAmQ%3D%3D
URL for 'Britney Spears, ‘Toxic’': https://www.youtube.com/watch?v=LOZuxwVk7TU&pp=ygUbQnJpdG5leSBTcGVhcnMsIOKAmFRveGlj4oCZ
URL for 'Stevie Wonder, ‘Higher Ground’': https://www.youtube.com/watch?v=zGSxvH5i6XQ&pp=ygUiU3RldmllIFdvbmRlciwg4oCYSGlnaGVyIEdyb3VuZOKAmQ%3D%3D
URL for 'R.E.M., ‘Losing My Religion’': https://www.youtube.com/watch?v=xwtdhWltSIg&pp=ygUgUi5FLk0uLCDigJhMb3NpbmcgTXkgUmVsaWdpb27igJk%3D
URL for 'Bruce Springsteen, ‘Thunder Road’': https://www.youtube.com/watch?v=UDIDawmeeI0&pp=ygUlQnJ1Y2UgU3ByaW5nc3RlZW4sIOKAmFRodW5kZXIgUm9hZOKAmQ%3D%3D
URL for 'The Beatles, ‘Something’': https://www.youtube.com/watch?v=UelDrZ1aFeY&pp=ygUcVGhlIEJlYXRsZXMsIOKAmFNvbWV0aGluZ-KAmQ%3D%3D
URL for 'Sly and the Family Stone, ‘Everyday People’': https://www.youtube.com/watch?v=YUUhDoCx8zc&pp=ygUvU2x5IGFuZCB0aGUgRmFtaWx5IFN0b25lLCDigJhFdmVyeWRheSBQZW9wbGXigJk%3D
URL for 'The Cure, ‘Just Like Heaven’': https://www.youtube.com/watch?v=n3nPiBai66M&pp=ygUgVGhlIEN1cmUsIOKAmEp1c3QgTGlrZSBIZWF2ZW7igJk%3D
URL for 'Wu-Tang Clan, ‘C.R.E.A.M.’': https://www.youtube.com/watch?v=PBwAxmrE194&pp=ygUeV3UtVGFuZyBDbGFuLCDigJhDLlIuRS5BLk0u4oCZ
URL for 'The Rolling Stones, ‘Sympathy for the Devil’': https://www.youtube.com/watch?v=GgnClrx8N2k&pp=ygUwVGhlIFJvbGxpbmcgU3RvbmVzLCDigJhTeW1wYXRoeSBmb3IgdGhlIERldmls4oCZ
URL for 'David Bowie, ‘Life on Mars?’': https://www.youtube.com/watch?v=AZKcl4-tcuo&pp=ygUgRGF2aWQgQm93aWUsIOKAmExpZmUgb24gTWFycz_igJk%3D
URL for 'The Jackson 5, ‘I Want You Back’': https://www.youtube.com/watch?v=y2bVIBwpCTA&pp=ygUkVGhlIEphY2tzb24gNSwg4oCYSSBXYW50IFlvdSBCYWNr4oCZ
URL for 'Alanis Morissette, ‘You Oughta Know’': https://www.youtube.com/watch?v=NPcyTyilmYY&pp=ygUoQWxhbmlzIE1vcmlzc2V0dGUsIOKAmFlvdSBPdWdodGEgS25vd-KAmQ%3D%3D
URL for 'Chuck Berry, ‘Maybelline’': https://www.youtube.com/watch?v=75RiHJGfyUE&pp=ygUdQ2h1Y2sgQmVycnksIOKAmE1heWJlbGxpbmXigJk%3D
URL for 'Yeah Yeah Yeahs, ‘Maps’': https://www.youtube.com/watch?v=oIIxlgcuQRU&pp=ygUbWWVhaCBZZWFoIFllYWhzLCDigJhNYXBz4oCZ
URL for 'Bob Dylan, ‘Blowin’ in the Wind’': https://www.youtube.com/watch?v=MMFj8uDubsE&pp=ygUmQm9iIER5bGFuLCDigJhCbG93aW7igJkgaW4gdGhlIFdpbmTigJk%3D
URL for 'Bee Gees, ‘Stayin’ Alive’': https://www.youtube.com/watch?v=fNFzfwLM72c&pp=ygUfQmVlIEdlZXMsIOKAmFN0YXlpbuKAmSBBbGl2ZeKAmQ%3D%3D
URL for 'The Beatles, ‘In My Life’': https://www.youtube.com/watch?v=YBcdt6DsLQA&pp=ygUdVGhlIEJlYXRsZXMsIOKAmEluIE15IExpZmXigJk%3D
URL for 'Patti Smith, ‘Gloria’': https://www.youtube.com/watch?v=bPO0bTaWcFQ&pp=ygUZUGF0dGkgU21pdGgsIOKAmEdsb3JpYeKAmQ%3D%3D
URL for 'Jay-Z, ’99 Problems’': https://www.youtube.com/watch?v=0YdLT0rL6L4&pp=ygUYSmF5LVosIOKAmTk5IFByb2JsZW1z4oCZ
URL for 'Oasis, ‘Wonderwall’': https://www.youtube.com/watch?v=bx1Bh8ZvH84&pp=ygUXT2FzaXMsIOKAmFdvbmRlcndhbGzigJk%3D
URL for 'Whitney Houston, ‘I Will Always Love You’': https://www.youtube.com/watch?v=3JWTaaS7LdU&pp=ygUtV2hpdG5leSBIb3VzdG9uLCDigJhJIFdpbGwgQWx3YXlzIExvdmUgWW914oCZ
URL for 'Kelly Clarkson, ‘Since U Been Gone’': https://www.youtube.com/watch?v=R7UrFYvl5TE&pp=ygUnS2VsbHkgQ2xhcmtzb24sIOKAmFNpbmNlIFUgQmVlbiBHb25l4oCZ
URL for 'Little Richard, ‘Good Golly, Miss Molly’': https://www.youtube.com/watch?v=lQ6akiGRcL8&pp=ygUsTGl0dGxlIFJpY2hhcmQsIOKAmEdvb2QgR29sbHksIE1pc3MgTW9sbHnigJk%3D
URL for 'UGK feat. Outkast, ‘Int’l Players Anthem (I Choose You)’': https://www.youtube.com/watch?v=awMIbA34MT8&pp=ygU-VUdLIGZlYXQuIE91dGthc3QsIOKAmEludOKAmWwgUGxheWVycyBBbnRoZW0gKEkgQ2hvb3NlIFlvdSnigJk%3D
URL for 'Aretha Franklin, ‘(You Make Me Feel Like) A Natural Woman’': https://www.youtube.com/watch?v=8jCFzreP1ng&pp=ygU-QXJldGhhIEZyYW5rbGluLCDigJgoWW91IE1ha2UgTWUgRmVlbCBMaWtlKSBBIE5hdHVyYWwgV29tYW7igJk%3D
URL for 'The Beatles, ‘Hey Jude’': https://www.youtube.com/watch?v=A_MjCqQoLLA&pp=ygUbVGhlIEJlYXRsZXMsIOKAmEhleSBKdWRl4oCZ
URL for 'Guns N’ Roses, ‘Sweet Child O’ Mine’': https://www.youtube.com/watch?v=1w7OgIMMRc4&pp=ygUsR3VucyBO4oCZIFJvc2VzLCDigJhTd2VldCBDaGlsZCBP4oCZIE1pbmXigJk%3D
URL for 'LCD Soundsystem, ‘All My Friends’': https://www.youtube.com/watch?v=aygY5OqMuKE&pp=ygUlTENEIFNvdW5kc3lzdGVtLCDigJhBbGwgTXkgRnJpZW5kc-KAmQ%3D%3D
URL for 'The Rolling Stones, ‘Tumbling Dice’': https://www.youtube.com/watch?v=EMoi_m2G6XU&pp=ygUnVGhlIFJvbGxpbmcgU3RvbmVzLCDigJhUdW1ibGluZyBEaWNl4oCZ
URL for 'Prince, ‘Kiss’': https://www.youtube.com/watch?v=H9tEvfIsDyo&pp=ygUSUHJpbmNlLCDigJhLaXNz4oCZ
URL for 'Al Green, ‘Let’s Stay Together’': https://www.youtube.com/watch?v=COiIC3A0ROM&pp=ygUlQWwgR3JlZW4sIOKAmExldOKAmXMgU3RheSBUb2dldGhlcuKAmQ%3D%3D
URL for 'Bob Dylan, ‘Desolation Row’': https://www.youtube.com/watch?v=hUvcWXTIjcU&pp=ygUfQm9iIER5bGFuLCDigJhEZXNvbGF0aW9uIFJvd-KAmQ%3D%3D
URL for 'Adele, ‘Rolling in the Deep’': https://www.youtube.com/watch?v=rYEDA3JcQqw&pp=ygUgQWRlbGUsIOKAmFJvbGxpbmcgaW4gdGhlIERlZXDigJk%3D
URL for 'The Velvet Underground, ‘I’m Waiting for the Man’': https://www.youtube.com/watch?v=99og_g7rXnA&pp=ygU3VGhlIFZlbHZldCBVbmRlcmdyb3VuZCwg4oCYSeKAmW0gV2FpdGluZyBmb3IgdGhlIE1hbuKAmQ%3D%3D
URL for 'Ray Charles, ‘What’d I Say’': https://www.youtube.com/watch?v=EPLZL4s_jtI&pp=ygUhUmF5IENoYXJsZXMsIOKAmFdoYXTigJlkIEkgU2F54oCZ
URL for 'Amy Winehouse, ‘Back to Black’': https://www.youtube.com/watch?v=TJAfLE39ZZ8&pp=ygUiQW15IFdpbmVob3VzZSwg4oCYQmFjayB0byBCbGFja-KAmQ%3D%3D
URL for 'The Four Tops, ‘Reach Out (I’ll Be There)’': https://www.youtube.com/watch?v=1v4twH9KbnU&pp=ygUwVGhlIEZvdXIgVG9wcywg4oCYUmVhY2ggT3V0IChJ4oCZbGwgQmUgVGhlcmUp4oCZ
URL for 'The Modern Lovers, ‘Roadrunner’': https://www.youtube.com/watch?v=6ZWoJ8_75Mo&pp=ygUjVGhlIE1vZGVybiBMb3ZlcnMsIOKAmFJvYWRydW5uZXLigJk%3D
URL for 'Johnny Cash, ‘I Walk the Line’': https://www.youtube.com/watch?v=J-6fW66IUY4&pp=ygUiSm9obm55IENhc2gsIOKAmEkgV2FsayB0aGUgTGluZeKAmQ%3D%3D
URL for 'Pulp, ‘Common People’': https://www.youtube.com/watch?v=yuTMWgOduFM&pp=ygUZUHVscCwg4oCYQ29tbW9uIFBlb3BsZeKAmQ%3D%3D
URL for 'Leonard Cohen, ‘Hallelujah’': https://www.youtube.com/watch?v=YrLk4vdY28Q&pp=ygUfTGVvbmFyZCBDb2hlbiwg4oCYSGFsbGVsdWphaOKAmQ%3D%3D
URL for 'Beyoncé, ‘Formation’': https://www.youtube.com/watch?v=WDZJPJV__bQ&pp=ygUZQmV5b25jw6ksIOKAmEZvcm1hdGlvbuKAmQ%3D%3D
URL for 'The Beatles, ‘Yesterday’': https://www.youtube.com/watch?v=NrgmdOz227I&pp=ygUcVGhlIEJlYXRsZXMsIOKAmFllc3RlcmRheeKAmQ%3D%3D
URL for 'Tracy Chapman, ‘Fast Car’': https://www.youtube.com/watch?v=AIOAlaACuv4&pp=ygUdVHJhY3kgQ2hhcG1hbiwg4oCYRmFzdCBDYXLigJk%3D
URL for 'Elvis Presley, ‘Suspicious Minds’': https://www.youtube.com/watch?v=RxOBOhRECoo&pp=ygUlRWx2aXMgUHJlc2xleSwg4oCYU3VzcGljaW91cyBNaW5kc-KAmQ%3D%3D
URL for 'Taylor Swift, ‘All Too Well’': https://www.youtube.com/watch?v=tollGa3S0o8&pp=ygUgVGF5bG9yIFN3aWZ0LCDigJhBbGwgVG9vIFdlbGzigJk%3D
URL for 'Chic, ‘Good Times’': https://www.youtube.com/watch?v=51r5f5OdIY0&pp=ygUWQ2hpYywg4oCYR29vZCBUaW1lc-KAmQ%3D%3D
URL for 'Bob Dylan, ‘Tangled Up in Blue’': https://www.youtube.com/watch?v=QKcNyMBw818&pp=ygUjQm9iIER5bGFuLCDigJhUYW5nbGVkIFVwIGluIEJsdWXigJk%3D
URL for 'Simon and Garfunkel, ‘Bridge Over Troubled Water’': https://www.youtube.com/watch?v=4G-YQA_bsOU&pp=ygU1U2ltb24gYW5kIEdhcmZ1bmtlbCwg4oCYQnJpZGdlIE92ZXIgVHJvdWJsZWQgV2F0ZXLigJk%3D
URL for 'Earth, Wind, and Fire, ‘September’': https://www.youtube.com/watch?v=Gs069dndIYk&pp=ygUmRWFydGgsIFdpbmQsIGFuZCBGaXJlLCDigJhTZXB0ZW1iZXLigJk%3D
URL for 'Ramones, ‘Blitzkrieg Bop’': https://www.youtube.com/watch?v=268C3N2dDYk&pp=ygUdUmFtb25lcywg4oCYQmxpdHprcmllZyBCb3DigJk%3D
URL for 'Dolly Parton, ‘Jolene’': None
URL for 'U2, ‘One’': https://www.youtube.com/watch?v=ftjEcrrf7r0&pp=ygUNVTIsIOKAmE9uZeKAmQ%3D%3D
URL for 'Led Zeppelin, ‘Stairway to Heaven’': https://www.youtube.com/watch?v=QkF3oxziUI4&pp=ygUmTGVkIFplcHBlbGluLCDigJhTdGFpcndheSB0byBIZWF2ZW7igJk%3D
URL for 'Kate Bush, ‘Running Up That Hill’': https://www.youtube.com/watch?v=wp43OdtAAkM&pp=ygUlS2F0ZSBCdXNoLCDigJhSdW5uaW5nIFVwIFRoYXQgSGlsbOKAmQ%3D%3D
URL for 'Grandmaster Flash and the Furious Five, ‘The Message’': https://www.youtube.com/watch?v=PobrSpMwKk4&pp=ygU5R3JhbmRtYXN0ZXIgRmxhc2ggYW5kIHRoZSBGdXJpb3VzIEZpdmUsIOKAmFRoZSBNZXNzYWdl4oCZ
URL for 'The Band, ‘The Weight’': https://www.youtube.com/watch?v=FFqb1I-hiHE&pp=ygUaVGhlIEJhbmQsIOKAmFRoZSBXZWlnaHTigJk%3D
URL for 'Sly and the Family Stone, ‘Family Affair’': https://www.youtube.com/watch?v=xag5RKD0VHk&pp=ygUtU2x5IGFuZCB0aGUgRmFtaWx5IFN0b25lLCDigJhGYW1pbHkgQWZmYWly4oCZ
URL for 'Missy Elliott, ‘Work It’': https://www.youtube.com/watch?v=cjIvu7e6Wq8&pp=ygUcTWlzc3kgRWxsaW90dCwg4oCYV29yayBJdOKAmQ%3D%3D
URL for 'Madonna, ‘Like a Prayer’': https://www.youtube.com/watch?v=79fzeNUqQbQ&pp=ygUcTWFkb25uYSwg4oCYTGlrZSBhIFByYXllcuKAmQ%3D%3D
URL for 'Smokey Robinson and the Miracles, ‘The Tracks of My Tears’': https://www.youtube.com/watch?v=rNS6D4hSQdA&pp=ygU-U21va2V5IFJvYmluc29uIGFuZCB0aGUgTWlyYWNsZXMsIOKAmFRoZSBUcmFja3Mgb2YgTXkgVGVhcnPigJk%3D
URL for 'The Beach Boys, ‘Good Vibrations’': https://www.youtube.com/watch?v=apBWI6xrbLY&pp=ygUlVGhlIEJlYWNoIEJveXMsIOKAmEdvb2QgVmlicmF0aW9uc-KAmQ%3D%3D
URL for 'Donna Summer, ‘I Feel Love’': https://www.youtube.com/watch?v=yEbaeLv-aOo&pp=ygUfRG9ubmEgU3VtbWVyLCDigJhJIEZlZWwgTG92ZeKAmQ%3D%3D
URL for 'Dionne Warwick, ‘Walk on By’': https://www.youtube.com/watch?v=vsGsCvJWEo8&pp=ygUgRGlvbm5lIFdhcndpY2ssIOKAmFdhbGsgb24gQnnigJk%3D
URL for 'Daddy Yankee, ‘Gasolina’': https://www.youtube.com/watch?v=CCF1_jI8Prk&pp=ygUcRGFkZHkgWWFua2VlLCDigJhHYXNvbGluYeKAmQ%3D%3D
URL for 'Lauryn Hill, ‘Doo Wop (That Thing)’': https://www.youtube.com/watch?v=T6QKqFPRZSA&pp=ygUnTGF1cnluIEhpbGwsIOKAmERvbyBXb3AgKFRoYXQgVGhpbmcp4oCZ
URL for 'Radiohead, ‘Idioteque’': https://www.youtube.com/watch?v=svwJTnZOaco&pp=ygUaUmFkaW9oZWFkLCDigJhJZGlvdGVxdWXigJk%3D
URL for 'Elton John, ‘Tiny Dancer’': https://www.youtube.com/watch?v=yYcyacLRPNs&pp=ygUdRWx0b24gSm9obiwg4oCYVGlueSBEYW5jZXLigJk%3D
URL for 'M.I.A., ‘Paper Planes’': https://www.youtube.com/watch?v=ewRjZoRtu0Y&pp=ygUaTS5JLkEuLCDigJhQYXBlciBQbGFuZXPigJk%3D
URL for 'Kendrick Lamar, ‘Alright’': https://www.youtube.com/watch?v=Z-48u_uWMHY&pp=ygUdS2VuZHJpY2sgTGFtYXIsIOKAmEFscmlnaHTigJk%3D
URL for 'Michael Jackson, ‘Billie Jean’': https://www.youtube.com/watch?v=Zi_XLOBDo_Y&pp=ygUiTWljaGFlbCBKYWNrc29uLCDigJhCaWxsaWUgSmVhbuKAmQ%3D%3D
URL for 'The Temptations, ‘My Girl’': https://www.youtube.com/watch?v=eepLY8J4E6c&pp=ygUeVGhlIFRlbXB0YXRpb25zLCDigJhNeSBHaXJs4oCZ
URL for 'Bob Marley and the Wailers, ‘Redemption Song’': https://www.youtube.com/watch?v=yv5xonFSC4c&pp=ygUxQm9iIE1hcmxleSBhbmQgdGhlIFdhaWxlcnMsIOKAmFJlZGVtcHRpb24gU29uZ-KAmQ%3D%3D
URL for 'Joy Division, ‘Love Will Tear Us Apart’': https://www.youtube.com/watch?v=zuuObGsB0No&pp=ygUrSm95IERpdmlzaW9uLCDigJhMb3ZlIFdpbGwgVGVhciBVcyBBcGFydOKAmQ%3D%3D
URL for 'The Jimi Hendrix Experience, ‘All Along the Watchtower’': https://www.youtube.com/watch?v=TLV4_xaYynY&pp=ygU7VGhlIEppbWkgSGVuZHJpeCBFeHBlcmllbmNlLCDigJhBbGwgQWxvbmcgdGhlIFdhdGNodG93ZXLigJk%3D
URL for 'Outkast, ‘B.O.B.’': https://www.youtube.com/watch?v=lVehcuJXe6I&pp=ygUVT3V0a2FzdCwg4oCYQi5PLkIu4oCZ
URL for 'Otis Redding, ‘(Sittin’ On) the Dock of the Bay’': https://www.youtube.com/watch?v=rTVjnBo96Ug&pp=ygU2T3RpcyBSZWRkaW5nLCDigJgoU2l0dGlu4oCZIE9uKSB0aGUgRG9jayBvZiB0aGUgQmF54oCZ
URL for 'Prince and the Revolution, ‘When Doves Cry’': https://www.youtube.com/watch?v=UG3VcCAlUgE&pp=ygUvUHJpbmNlIGFuZCB0aGUgUmV2b2x1dGlvbiwg4oCYV2hlbiBEb3ZlcyBDcnnigJk%3D
URL for 'The White Stripes, ‘Seven Nation Army’': https://www.youtube.com/watch?v=0J2QdDbelmY&pp=ygUqVGhlIFdoaXRlIFN0cmlwZXMsIOKAmFNldmVuIE5hdGlvbiBBcm154oCZ
URL for 'Little Richard, ‘Tutti-Frutti’': https://www.youtube.com/watch?v=Cj059o9OwqY&pp=ygUiTGl0dGxlIFJpY2hhcmQsIOKAmFR1dHRpLUZydXR0aeKAmQ%3D%3D
URL for 'James Brown, ‘Papa’s Got a Brand New Bag’': https://www.youtube.com/watch?v=QE5D2hJhacU&pp=ygUvSmFtZXMgQnJvd24sIOKAmFBhcGHigJlzIEdvdCBhIEJyYW5kIE5ldyBCYWfigJk%3D
URL for 'Chuck Berry, ‘Johnny B. Goode’': https://www.youtube.com/watch?v=T38v3-SSGcM&pp=ygUiQ2h1Y2sgQmVycnksIOKAmEpvaG5ueSBCLiBHb29kZeKAmQ%3D%3D
URL for 'Notorious B.I.G., ‘Juicy’': https://www.youtube.com/watch?v=_JZom_gVfuw&pp=ygUdTm90b3Jpb3VzIEIuSS5HLiwg4oCYSnVpY3nigJk%3D
URL for 'The Rolling Stones, ‘(I Can’t Get No) Satisfaction’': https://www.youtube.com/watch?v=nrIPxlFzDi0&pp=ygU5VGhlIFJvbGxpbmcgU3RvbmVzLCDigJgoSSBDYW7igJl0IEdldCBObykgU2F0aXNmYWN0aW9u4oCZ
URL for 'Lorde, ‘Royals’': https://www.youtube.com/watch?v=nlcIKh6sBtc&pp=ygUTTG9yZGUsIOKAmFJveWFsc-KAmQ%3D%3D
URL for 'Dr. Dre feat. Snoop Doggy Dogg, ‘Nuthin’ but a ‘G’ Thang’': https://www.youtube.com/watch?v=8GliyDgAGQI&pp=ygVDRHIuIERyZSBmZWF0LiBTbm9vcCBEb2dneSBEb2dnLCDigJhOdXRoaW7igJkgYnV0IGEg4oCYR-KAmSBUaGFuZ-KAmQ%3D%3D
URL for 'Talking Heads, ‘Once in a Lifetime’': https://www.youtube.com/watch?v=5IsSpAOD6K8&pp=ygUnVGFsa2luZyBIZWFkcywg4oCYT25jZSBpbiBhIExpZmV0aW1l4oCZ
URL for 'Bruce Springsteen, ‘Born to Run’': https://www.youtube.com/watch?v=IxuThNgl3YA&pp=ygUkQnJ1Y2UgU3ByaW5nc3RlZW4sIOKAmEJvcm4gdG8gUnVu4oCZ
URL for 'Joni Mitchell, ‘A Case of You’': https://www.youtube.com/watch?v=9evpH6yjxrI&pp=ygUiSm9uaSBNaXRjaGVsbCwg4oCYQSBDYXNlIG9mIFlvdeKAmQ%3D%3D
URL for 'Kanye West feat. Pusha T, ‘Runaway’': https://www.youtube.com/watch?v=Bm5iA4Zupek&pp=ygUnS2FueWUgV2VzdCBmZWF0LiBQdXNoYSBULCDigJhSdW5hd2F54oCZ
URL for 'The Beatles, ‘A Day in the Life’': https://www.youtube.com/watch?v=usNsCeOV4GM&pp=ygUkVGhlIEJlYXRsZXMsIOKAmEEgRGF5IGluIHRoZSBMaWZl4oCZ
URL for 'David Bowie, ‘Heroes’': https://www.youtube.com/watch?v=lXgkuM2NhYI&pp=ygUZRGF2aWQgQm93aWUsIOKAmEhlcm9lc-KAmQ%3D%3D
URL for 'The Ronettes, ‘Be My Baby’': https://www.youtube.com/watch?v=jSPpbOGnFgk&pp=ygUeVGhlIFJvbmV0dGVzLCDigJhCZSBNeSBCYWJ54oCZ
URL for 'Billie Holiday, ‘Strange Fruit’': https://www.youtube.com/watch?v=Web007rzSOI&pp=ygUjQmlsbGllIEhvbGlkYXksIOKAmFN0cmFuZ2UgRnJ1aXTigJk%3D
URL for 'Robyn, ‘Dancing on My Own’': https://www.youtube.com/watch?v=CcNo07Xp8aQ&pp=ygUeUm9ieW4sIOKAmERhbmNpbmcgb24gTXkgT3du4oCZ
URL for 'John Lennon, ‘Imagine’': https://www.youtube.com/watch?v=ugrAo8wEPiI&pp=ygUaSm9obiBMZW5ub24sIOKAmEltYWdpbmXigJk%3D
URL for 'Prince and the Revolution, ‘Purple Rain’': https://www.youtube.com/watch?v=bm03wqLY3Nc&pp=ygUsUHJpbmNlIGFuZCB0aGUgUmV2b2x1dGlvbiwg4oCYUHVycGxlIFJhaW7igJk%3D
URL for 'Queen, ‘Bohemian Rhapsody’': https://www.youtube.com/watch?v=fJ9rUzIMcZQ&pp=ygUeUXVlZW4sIOKAmEJvaGVtaWFuIFJoYXBzb2R54oCZ
URL for 'Beyoncé feat. Jay-Z, ‘Crazy in Love’': https://www.youtube.com/watch?v=ViwtNLUqkMY&pp=ygUpQmV5b25jw6kgZmVhdC4gSmF5LVosIOKAmENyYXp5IGluIExvdmXigJk%3D
URL for 'The Beatles, ‘I Want to Hold Your Hand’': https://www.youtube.com/watch?v=jenWdylTtzs&pp=ygUrVGhlIEJlYXRsZXMsIOKAmEkgV2FudCB0byBIb2xkIFlvdXIgSGFuZOKAmQ%3D%3D
URL for 'The Kinks, ‘Waterloo Sunset’': https://www.youtube.com/watch?v=N_MqfF0WBsU&pp=ygUgVGhlIEtpbmtzLCDigJhXYXRlcmxvbyBTdW5zZXTigJk%3D
URL for 'The Rolling Stones, ‘Gimme Shelter’': https://www.youtube.com/watch?v=RbmS3tQJ7Os&pp=ygUnVGhlIFJvbGxpbmcgU3RvbmVzLCDigJhHaW1tZSBTaGVsdGVy4oCZ
URL for 'Stevie Wonder, ‘Superstition’': https://www.youtube.com/watch?v=0CFuCYNx-1g&pp=ygUhU3RldmllIFdvbmRlciwg4oCYU3VwZXJzdGl0aW9u4oCZ
URL for 'The Beach Boys, ‘God Only Knows’': https://www.youtube.com/watch?v=NADx3-qRxek&pp=ygUkVGhlIEJlYWNoIEJveXMsIOKAmEdvZCBPbmx5IEtub3dz4oCZ
URL for 'Outkast, ‘Hey Ya!’': https://www.youtube.com/watch?v=PWgvGjAhvIw&pp=ygUWT3V0a2FzdCwg4oCYSGV5IFlhIeKAmQ%3D%3D
URL for 'Fleetwood Mac, ‘Dreams’': https://www.youtube.com/watch?v=Y3ywicffOj4&pp=ygUbRmxlZXR3b29kIE1hYywg4oCYRHJlYW1z4oCZ
URL for 'Missy Elliott, ‘Get Ur Freak On’': https://www.youtube.com/watch?v=FPoKiGQzbSQ&pp=ygUkTWlzc3kgRWxsaW90dCwg4oCYR2V0IFVyIEZyZWFrIE9u4oCZ
URL for 'The Beatles, ‘Strawberry Fields Forever’': https://www.youtube.com/watch?v=HtUH9z_Oey8&pp=ygUsVGhlIEJlYXRsZXMsIOKAmFN0cmF3YmVycnkgRmllbGRzIEZvcmV2ZXLigJk%3D
URL for 'Marvin Gaye, ‘What’s Going On’': https://www.youtube.com/watch?v=H-kA3UtBj4M&pp=ygUkTWFydmluIEdheWUsIOKAmFdoYXTigJlzIEdvaW5nIE9u4oCZ
URL for 'Nirvana, ‘Smells Like Teen Spirit’': https://www.youtube.com/watch?v=hTWKbfoikeg&pp=ygUmTmlydmFuYSwg4oCYU21lbGxzIExpa2UgVGVlbiBTcGlyaXTigJk%3D
URL for 'Bob Dylan, ‘Like a Rolling Stone’': https://www.youtube.com/watch?v=IwOfCgkyEj0&pp=ygUlQm9iIER5bGFuLCDigJhMaWtlIGEgUm9sbGluZyBTdG9uZeKAmQ%3D%3D
URL for 'Sam Cooke, ‘A Change Is Gonna Come’': https://www.youtube.com/watch?v=wEBlaMOmKV4&pp=ygUnU2FtIENvb2tlLCDigJhBIENoYW5nZSBJcyBHb25uYSBDb21l4oCZ
URL for 'Public Enemy, ‘Fight the Power’': https://www.youtube.com/watch?v=mmo3HFa2vjg&pp=ygUjUHVibGljIEVuZW15LCDigJhGaWdodCB0aGUgUG93ZXLigJk%3D
URL for 'Aretha Franklin, ‘Respect’': https://www.youtube.com/watch?v=A134hShx_gw&pp=ygUeQXJldGhhIEZyYW5rbGluLCDigJhSZXNwZWN04oCZ
